{
 "cells": [
  {
   "cell_type": "code",
   "execution_count": 2,
   "metadata": {
    "collapsed": true
   },
   "outputs": [],
   "source": [
    "from pdfrw import PdfReader\n",
    "x = PdfReader('01.09-2015-  Odebrecht.pdf')"
   ]
  },
  {
   "cell_type": "code",
   "execution_count": 3,
   "metadata": {
    "collapsed": false
   },
   "outputs": [
    {
     "data": {
      "text/plain": [
       "['__class__',\n",
       " '__contains__',\n",
       " '__delattr__',\n",
       " '__delitem__',\n",
       " '__dict__',\n",
       " '__dir__',\n",
       " '__doc__',\n",
       " '__eq__',\n",
       " '__format__',\n",
       " '__ge__',\n",
       " '__getattr__',\n",
       " '__getattribute__',\n",
       " '__getitem__',\n",
       " '__gt__',\n",
       " '__hash__',\n",
       " '__init__',\n",
       " '__iter__',\n",
       " '__le__',\n",
       " '__len__',\n",
       " '__lt__',\n",
       " '__module__',\n",
       " '__ne__',\n",
       " '__new__',\n",
       " '__reduce__',\n",
       " '__reduce_ex__',\n",
       " '__repr__',\n",
       " '__setattr__',\n",
       " '__setitem__',\n",
       " '__sizeof__',\n",
       " '__str__',\n",
       " '__subclasshook__',\n",
       " '__weakref__',\n",
       " '_special',\n",
       " 'badtoken',\n",
       " 'clear',\n",
       " 'copy',\n",
       " 'deferred_objects',\n",
       " 'empty_obj',\n",
       " 'findindirect',\n",
       " 'findstream',\n",
       " 'findxref',\n",
       " 'fromkeys',\n",
       " 'get',\n",
       " 'getPage',\n",
       " 'indirect',\n",
       " 'indirect_objects',\n",
       " 'inheritable',\n",
       " 'items',\n",
       " 'iteritems',\n",
       " 'iterkeys',\n",
       " 'itervalues',\n",
       " 'keys',\n",
       " 'load_stream_objects',\n",
       " 'loadindirect',\n",
       " 'numPages',\n",
       " 'pages',\n",
       " 'parse_xref_stream',\n",
       " 'parse_xref_table',\n",
       " 'parsexref',\n",
       " 'pop',\n",
       " 'popitem',\n",
       " 'private',\n",
       " 'read_all',\n",
       " 'readarray',\n",
       " 'readdict',\n",
       " 'readpages',\n",
       " 'readstream',\n",
       " 'setdefault',\n",
       " 'source',\n",
       " 'special',\n",
       " 'stream',\n",
       " 'uncompress',\n",
       " 'update',\n",
       " 'values',\n",
       " 'verbose',\n",
       " 'version']"
      ]
     },
     "execution_count": 3,
     "metadata": {},
     "output_type": "execute_result"
    }
   ],
   "source": [
    "dir(x)"
   ]
  },
  {
   "cell_type": "code",
   "execution_count": 12,
   "metadata": {
    "collapsed": false
   },
   "outputs": [
    {
     "ename": "TypeError",
     "evalue": "'NoneType' object is not callable",
     "output_type": "error",
     "traceback": [
      "\u001b[1;31m---------------------------------------------------------------------------\u001b[0m",
      "\u001b[1;31mTypeError\u001b[0m                                 Traceback (most recent call last)",
      "\u001b[1;32m<ipython-input-12-912a25c73af6>\u001b[0m in \u001b[0;36m<module>\u001b[1;34m()\u001b[0m\n\u001b[1;32m----> 1\u001b[1;33m \u001b[0mx\u001b[0m\u001b[1;33m.\u001b[0m\u001b[0mRoot\u001b[0m\u001b[1;33m.\u001b[0m\u001b[0mPages\u001b[0m\u001b[1;33m.\u001b[0m\u001b[0mkey\u001b[0m\u001b[1;33m(\u001b[0m\u001b[1;33m)\u001b[0m\u001b[1;33m\u001b[0m\u001b[0m\n\u001b[0m",
      "\u001b[1;31mTypeError\u001b[0m: 'NoneType' object is not callable"
     ]
    }
   ],
   "source": [
    "x.Root.Pages.key()"
   ]
  },
  {
   "cell_type": "code",
   "execution_count": null,
   "metadata": {
    "collapsed": true
   },
   "outputs": [],
   "source": [
    "\n",
    "x = PdfReader('source.pdf')\n",
    "x.keys()\n",
    "['/Info', '/Size', '/Root']\n",
    ">>> x.Info\n",
    "{'/Producer': '(cairo 1.8.6 (http://cairographics.org))',\n",
    " '/Creator': '(cairo 1.8.6 (http://cairographics.org))'}\n",
    ">>> x.Root.keys()\n",
    "['/Type', '/Pages']"
   ]
  }
 ],
 "metadata": {
  "kernelspec": {
   "display_name": "Python 3",
   "language": "python",
   "name": "python3"
  },
  "language_info": {
   "codemirror_mode": {
    "name": "ipython",
    "version": 3
   },
   "file_extension": ".py",
   "mimetype": "text/x-python",
   "name": "python",
   "nbconvert_exporter": "python",
   "pygments_lexer": "ipython3",
   "version": "3.5.1"
  }
 },
 "nbformat": 4,
 "nbformat_minor": 0
}
