{
 "cells": [
  {
   "cell_type": "code",
   "execution_count": 74,
   "metadata": {
    "collapsed": true
   },
   "outputs": [],
   "source": [
    "import gensim\n",
    "import json\n",
    "import nltk\n",
    "import re\n",
    "import unicodedata\n",
    "from gensim import corpora, models, similarities"
   ]
  },
  {
   "cell_type": "code",
   "execution_count": 75,
   "metadata": {
    "collapsed": true
   },
   "outputs": [],
   "source": [
    "with open('result.json') as fp:\n",
    "    all_results = json.load(fp)"
   ]
  },
  {
   "cell_type": "code",
   "execution_count": 76,
   "metadata": {
    "collapsed": false
   },
   "outputs": [],
   "source": [
    "all_results.keys()\n",
    "\n",
    "documents = []\n",
    "documents_titles = all_results.keys()\n",
    "for d in documents_titles:\n",
    "    text = \" \".join(f for n in all_results[d]['depoentes_names'] for f in all_results[d]['text'][n]['falas'])\n",
    "    documents.append(text)"
   ]
  },
  {
   "cell_type": "code",
   "execution_count": 132,
   "metadata": {
    "collapsed": false
   },
   "outputs": [
    {
     "name": "stdout",
     "output_type": "stream",
     "text": [
      "Dictionary(11524 unique tokens: [u'anulando', u'estacao', u'inversao', u'vivemos', u'bloqueou']...)\n"
     ]
    }
   ],
   "source": [
    "def rem_accents(text):\n",
    "    if type(text) == str:\n",
    "        text = unicode(text, 'utf8')\n",
    "    return unicodedata.normalize('NFD', text).encode('ascii', 'ignore') #remove accents\n",
    "\n",
    "# remove common words and tokenize\n",
    "stoplist = {rem_accents(x) for x in nltk.corpus.stopwords.words('portuguese')} | \\\n",
    "{\"sr\", \"senhor\", \"deputado\", \"presidente\", \"vou\", \"deputado\", \"pergunta\", \"silencio\", \"permanecer\", \"permanecerei\", \"acho\", \"falei\",\n",
    " \"entao\", \"processo\", \"manter\", \"inclusive\", \"questao\", \"momento\", \"falar\", \"seguinte\", \"porque\", \"aqui\", \"ser\",\n",
    " \"dizer\", \"sobre\", \"ter\", \"sim\", \"pode\", \"fazer\", \"sei\", \"la\", \"ai\", \"gente\", \"vai\", \"relacao\", \"posso\", \"todos\", \"dentro\", \"tudo\", \"assim\",\n",
    "\"nunca\", \"parte\", \"hoje\", \"agora\", \"nesse\", \"excelentissimo\", \"ilustrissima\", \"ilustrissimo\", \"excelencia\"} |\\\n",
    "{\"petrobras\", \"empresa\", \"empresas\", \"area\"}\n",
    "\n",
    "texts = [[word for word in re.split(r'\\W+', document.lower()) if word and word not in stoplist]\n",
    "         for document in documents]\n",
    "\n",
    "# remove words that appear only once\n",
    "from collections import defaultdict\n",
    "frequency = defaultdict(int)\n",
    "for text in texts:\n",
    "    for token in text:\n",
    "        frequency[token] += 1\n",
    "\n",
    "texts = [[token for token in text if frequency[token] > 1]\n",
    "         for text in texts]\n",
    "\n",
    "from pprint import pprint   # pretty-printer\n",
    "#pprint(texts)\n",
    "\n",
    "dictionary = corpora.Dictionary(texts)\n",
    "dictionary.save('/tmp/deerwester.dict') # store the dictionary, for future reference\n",
    "print(dictionary)\n",
    "\n",
    "corpus = [dictionary.doc2bow(text) for text in texts]\n",
    "tfidf = models.TfidfModel(corpus)\n",
    "corpus_tfidf = tfidf[corpus]\n",
    "corpora.MmCorpus.serialize('/tmp/deerwester.mm', corpus_tfidf) # store to disk, for later use\n",
    "#print(corpus)"
   ]
  },
  {
   "cell_type": "code",
   "execution_count": 133,
   "metadata": {
    "collapsed": false
   },
   "outputs": [
    {
     "name": "stderr",
     "output_type": "stream",
     "text": [
      "WARNING:gensim.models.ldamodel:too few updates, training might not converge; consider increasing the number of passes or iterations to improve accuracy\n"
     ]
    },
    {
     "name": "stdout",
     "output_type": "stream",
     "text": [
      "0 0.001*calado + 0.001*impoe + 0.001*triunfo + 0.000*recorro + 0.000*excelencias + 0.000*mentiroso + 0.000*petroquimica + 0.000*exercer + 0.000*banco + 0.000*fechada\n",
      "\n",
      "1 0.000*petros + 0.000*refinaria + 0.000*shinko + 0.000*deliberativo + 0.000*teste + 0.000*eminente + 0.000*dedurar + 0.000*modelo + 0.000*supremo + 0.000*companhia\n",
      "\n",
      "2 0.001*janene + 0.001*recomendacao + 0.000*sete + 0.000*advogados + 0.000*financas + 0.000*pt + 0.000*central + 0.000*diretorio + 0.000*seguindo + 0.000*partido\n",
      "\n",
      "3 0.001*sondas + 0.001*schahin + 0.000*sete + 0.000*petros + 0.000*refinaria + 0.000*portanto + 0.000*companhias + 0.000*setal + 0.000*exercer + 0.000*diretoria\n",
      "\n",
      "4 0.001*sap + 0.001*camargo + 0.000*correa + 0.000*clientes + 0.000*vendemos + 0.000*softwares + 0.000*inexigibilidade + 0.000*dalton + 0.000*solucoes + 0.000*contratos\n",
      "\n",
      "5 0.000*bravo + 0.000*leniencia + 0.000*controladoria + 0.000*737 + 0.000*combate + 0.000*predio + 0.000*responsabilizacao + 0.000*sindicancia + 0.000*repressao + 0.000*instante\n",
      "\n",
      "6 0.001*saipem + 0.001*advogados + 0.001*orientacao + 0.000*blackberry + 0.000*manifestar + 0.000*petroquimica + 0.000*petroquisa + 0.000*distri + 0.000*cash + 0.000*bernardi\n",
      "\n",
      "7 0.000*saipem + 0.000*refinaria + 0.000*gerente + 0.000*projeto + 0.000*gerencia + 0.000*shinko + 0.000*estimativa + 0.000*projetos + 0.000*perfeito + 0.000*abastecimento\n",
      "\n",
      "8 0.000*reitero + 0.000*orientacao + 0.000*advogados + 0.000*fechada + 0.000*carta + 0.000*sessao + 0.000*nobre + 0.000*questionamentos + 0.000*coaf + 0.000*enorme\n",
      "\n",
      "9 0.001*calado + 0.000*calo + 0.000*bndes + 0.000*exa + 0.000*projeto + 0.000*refinaria + 0.000*v + 0.000*sindicancia + 0.000*comperj + 0.000*genealogica\n",
      "\n"
     ]
    }
   ],
   "source": [
    "import logging, gensim, bz2\n",
    "\n",
    "lda = gensim.models.ldamodel.LdaModel(corpus=corpus_tfidf, id2word=dictionary, num_topics=10)\n",
    "for i,t in enumerate(lda.print_topics(num_words=10)):\n",
    "    print(\"{} {}\\n\".format(i,t))"
   ]
  },
  {
   "cell_type": "code",
   "execution_count": 129,
   "metadata": {
    "collapsed": false
   },
   "outputs": [
    {
     "data": {
      "text/plain": [
       "46"
      ]
     },
     "execution_count": 129,
     "metadata": {},
     "output_type": "execute_result"
    }
   ],
   "source": [
    "len(documents_titles)"
   ]
  },
  {
   "cell_type": "code",
   "execution_count": 131,
   "metadata": {
    "collapsed": false
   },
   "outputs": [
    {
     "name": "stdout",
     "output_type": "stream",
     "text": [
      "15.07.2015- Jose Cardozo-Ministro Justica.pdf\t [(5, 0.013160699661322422), (6, 0.42080441960511528), (7, 0.024373930926144184), (9, 0.54073393152963622)]\n",
      "16.06.2015-Sete Participacoes.pdf\t [(3, 0.42557346759989206), (6, 0.30737259882716444), (7, 0.26485049858259913)]\n",
      "16.07.2015- Ministro CGU, e AGU.pdf\t [(6, 0.99779332167654311)]\n",
      "31.08.2015- Andrade Gutierrez.pdf\t [(0, 0.95504656558505852), (5, 0.014352604253282582), (7, 0.027708063198691145)]\n",
      "21.05.2015- Vice presidente Engevix.pdf\t [(0, 0.027617232217552138), (4, 0.73290219338501239), (7, 0.019233098047467461), (9, 0.21841779095382061)]\n",
      "18.08.2015-Doleiros.pdf\t [(4, 0.36006131879674441), (6, 0.60329870640021166), (7, 0.036453119940120501)]\n",
      "14.10.2015- Presidente Petrobras Bendine.pdf\t [(0, 0.15608513195808094), (4, 0.012797913967698834), (6, 0.73945534381625011), (7, 0.084808701491887545)]\n",
      "02.09.2015- Publicitario, dono Toyo Setal, etc.pdf\t [(0, 0.026369972254677049), (6, 0.96267355932205145), (7, 0.010435174900120176)]\n",
      "27.05.2015-Grupo Schahin.pdf\t [(7, 0.99683774551939963)]\n",
      "26.03.2015-Presidente Petrobras- Maria Graca Foster.pdf\t [(1, 0.47393161953816876), (6, 0.44008434014846848), (7, 0.081879701932085464)]\n",
      "02.07.2015-Petroquimica Triunfo.pdf\t [(6, 0.27051976908813186), (8, 0.7196409340268155)]\n",
      "08.06.2015-Refinarias e Petroquimica.pdf\t [(6, 0.31964447126807122), (7, 0.67864640053526371)]\n",
      "14.05-2015-Renato Sanches- Diretor Operacoes da Sete Brasil.pdf\t [(0, 0.39723511913802456), (6, 0.34083589415942306), (7, 0.2569606914454346)]\n",
      "05.08.2015- Mitsui Presidente, 4 da policia federal.pdf\t [(5, 0.48605213022178256), (6, 0.4105657630792463), (7, 0.065399666040833346), (9, 0.037883623178240941)]\n",
      "30.06.2015- Associacoes Petrobras.pdf\t [(6, 0.90917786486366414), (7, 0.033242575998857091), (9, 0.057041864496362449)]\n",
      "10.6.2015-6 speakers, Gerentes.pdf\t [(2, 0.022817041721072202), (6, 0.52213749861434888), (7, 0.29589849582646327), (8, 0.15575279485564819)]\n",
      "22.09.2015-diretora refino petrobras.pdf\t [(6, 0.19079156430931915), (7, 0.80901823922953608)]\n",
      "20.05.2015- Presidente Camargo Correia.pdf\t [(2, 0.45244029266156849), (6, 0.5215071095624777), (7, 0.025894550461452354)]\n",
      "13.08.2015- Banco central, secretaria doleiro.pdf\t [(6, 0.98917395822121301)]\n",
      "14.07.2015- Viuva ex-deupatdo Janene.pdf\t [(0, 0.6199654893592208), (6, 0.37492000344315762)]\n",
      "27.08.2015-Arxo e SAP.pdf\t [(2, 0.69090119037351505), (6, 0.27547945725107087), (7, 0.026541533593559968)]\n",
      "01.10.2015- Delegados Policia Federal.pdf\t [(6, 0.079792094024298668), (7, 0.53022760797063839), (9, 0.38369580634118405)]\n",
      "28.04.2015- Gerente Juridico, Auditoria, Presidente Petroquimica Petrobras.pdf\t [(0, 0.010000558365710694), (5, 0.010403333202808909), (6, 0.65767300625912606), (7, 0.23788083228836326), (8, 0.04092282358118645), (9, 0.037523053323245951)]\n",
      "25.08.2015- Acareacao Youseff e Paulo Roberto costa.pdf\t [(6, 0.41532210579056317), (7, 0.01859967431835257), (8, 0.56182215711454186)]\n",
      "28.05.2015- OAS, funcionarioe diretor financeiro.pdf\t [(5, 0.97428369559997274)]\n",
      "12.03.2015-Presidente Petrobras-Gabrielli.pdf\t [(5, 0.3632017067793783), (6, 0.55431469671855871), (7, 0.076206119993999968)]\n",
      "12.05.2015-Lobistas 2.pdf\t [(0, 0.030829257808015546), (5, 0.070370507065918256), (6, 0.51750836781434617), (7, 0.10363183574994733), (9, 0.27157899070958968)]\n",
      "02.06.2015- VP Mendes Junior trading, ceo do Galvao.pdf\t [(0, 0.989886635980462)]\n",
      "19.03.2015-Renato Duque.pdf\t [(0, 0.15105211118042974), (6, 0.045172625655002782), (7, 0.053759559837119816), (8, 0.74881547108866353)]\n",
      "16.04.2015-Luciano Coutinho- Presidente BNDES.pdf\t [(6, 0.92379541600960458), (7, 0.07422180536486786)]\n",
      "31.03.2015-exgerente implementacao Abreu e Lima.pdf\t [(6, 0.90559764966774525), (7, 0.093930922907369555)]\n",
      "20.08.2015- Doleiros e lavagem.pdf\t [(5, 0.91947207386833796), (6, 0.075769772699776472)]\n",
      "23.04.2015-Augusto Mendonca Neto- Presidente Setal Engenharia.pdf\t [(6, 0.59660035622086627), (7, 0.10922251397135348), (8, 0.29409140084404961)]\n",
      "15.09.2015-UTC e Saipem.pdf\t [(3, 0.34195367190197901), (6, 0.44807936184065811), (7, 0.15805994287187586), (9, 0.044660099567949502)]\n",
      "24.09.2015-Executivo petrobras e doleiros.pdf\t [(6, 0.35740166472417173), (7, 0.052978962506434003), (9, 0.58948053636241093)]\n",
      "11.05.2015-Lobistas.pdf\t [(0, 0.018439175540763391), (6, 0.52054249686973941), (7, 0.021380102722795811), (8, 0.011467878807164959), (9, 0.42011348897393247)]\n",
      "06.08.2015-Lobista.pdf\t [(7, 0.95262898554234188)]\n",
      "05.05.2015- Paulo Roberto Costa- Diretor Abastecimento da Petrobras.pdf\t [(6, 0.94815073264226335), (7, 0.031629221006587153), (8, 0.01998242128499705)]\n",
      "17.09.2015- schahin, wt torre empreendimentos, unipar.pdf\t [(6, 0.2268625251284993), (7, 0.079843774050558911), (8, 0.69270064344299054)]\n",
      "09.04.2015-Joao Vaccari- Tesoureiro PT.pdf\t [(0, 0.015535356197404605), (1, 0.24412334580740638), (4, 0.1232762025968907), (5, 0.012734617747620894), (6, 0.58620091729144541), (7, 0.010341856022144685)]\n",
      "26.05.2015- Presidente OAS, Vice presidente Camargo Correa, Presidente conselho administracao camargo.pdf\t [(6, 0.98059347794746898), (7, 0.015031804176984144)]\n",
      "01.09-2015-  Odebrecht.pdf\t [(0, 0.076086360861872523), (3, 0.64655959659512885), (5, 0.017666334831167453), (6, 0.24629151864121623), (7, 0.013025203108519887)]\n",
      "11.08.2015- Gerente Petrobras Quimica.pdf\t [(1, 0.62441043943829955), (6, 0.23180384756998412), (7, 0.13572898377170659)]\n",
      "07.05.2015-Presidente Sete Brasil- Luiz eduardo Guimaraes carneiro.pdf\t [(6, 0.2811021068297907), (7, 0.71750080996696308)]\n",
      "07.07.2015- COAF e CGU.pdf\t [(6, 0.99865620551042245)]\n",
      "09.06.2015-SBM Offshore- Representante Brasil.pdf\t [(0, 0.022969982180280596), (9, 0.97527533366258545)]\n"
     ]
    }
   ],
   "source": [
    "for i in range(len(documents_titles)):\n",
    "    print(\"{}\\t {}\".format(documents_titles[i], lda[corpus[i]]))"
   ]
  }
 ],
 "metadata": {
  "kernelspec": {
   "display_name": "Python 2",
   "language": "python2",
   "name": "python2"
  },
  "language_info": {
   "codemirror_mode": {
    "name": "ipython",
    "version": 2
   },
   "file_extension": ".py",
   "mimetype": "text/x-python",
   "name": "python",
   "nbconvert_exporter": "python",
   "pygments_lexer": "ipython2",
   "version": "2.7.11"
  }
 },
 "nbformat": 4,
 "nbformat_minor": 0
}
